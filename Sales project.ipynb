{
 "cells": [
  {
   "cell_type": "code",
   "execution_count": 72,
   "id": "59d887cc",
   "metadata": {},
   "outputs": [],
   "source": [
    "import pandas as pd\n",
    "import numpy as np\n",
    "import matplotlib.pyplot as plt"
   ]
  },
  {
   "cell_type": "markdown",
   "id": "a506bb69",
   "metadata": {},
   "source": [
    "# Reading the data from the spreadsheet"
   ]
  },
  {
   "cell_type": "code",
   "execution_count": 69,
   "id": "58c699ee",
   "metadata": {
    "scrolled": true
   },
   "outputs": [
    {
     "data": {
      "text/html": [
       "<div>\n",
       "<style scoped>\n",
       "    .dataframe tbody tr th:only-of-type {\n",
       "        vertical-align: middle;\n",
       "    }\n",
       "\n",
       "    .dataframe tbody tr th {\n",
       "        vertical-align: top;\n",
       "    }\n",
       "\n",
       "    .dataframe thead th {\n",
       "        text-align: right;\n",
       "    }\n",
       "</style>\n",
       "<table border=\"1\" class=\"dataframe\">\n",
       "  <thead>\n",
       "    <tr style=\"text-align: right;\">\n",
       "      <th></th>\n",
       "      <th>year</th>\n",
       "      <th>month</th>\n",
       "      <th>sales</th>\n",
       "      <th>expenditure</th>\n",
       "    </tr>\n",
       "  </thead>\n",
       "  <tbody>\n",
       "    <tr>\n",
       "      <th>0</th>\n",
       "      <td>2018</td>\n",
       "      <td>jan</td>\n",
       "      <td>6226</td>\n",
       "      <td>3808</td>\n",
       "    </tr>\n",
       "    <tr>\n",
       "      <th>1</th>\n",
       "      <td>2018</td>\n",
       "      <td>feb</td>\n",
       "      <td>1521</td>\n",
       "      <td>3373</td>\n",
       "    </tr>\n",
       "    <tr>\n",
       "      <th>2</th>\n",
       "      <td>2018</td>\n",
       "      <td>mar</td>\n",
       "      <td>1842</td>\n",
       "      <td>3965</td>\n",
       "    </tr>\n",
       "    <tr>\n",
       "      <th>3</th>\n",
       "      <td>2018</td>\n",
       "      <td>apr</td>\n",
       "      <td>2051</td>\n",
       "      <td>1098</td>\n",
       "    </tr>\n",
       "    <tr>\n",
       "      <th>4</th>\n",
       "      <td>2018</td>\n",
       "      <td>may</td>\n",
       "      <td>1728</td>\n",
       "      <td>3046</td>\n",
       "    </tr>\n",
       "    <tr>\n",
       "      <th>5</th>\n",
       "      <td>2018</td>\n",
       "      <td>jun</td>\n",
       "      <td>2138</td>\n",
       "      <td>2258</td>\n",
       "    </tr>\n",
       "    <tr>\n",
       "      <th>6</th>\n",
       "      <td>2018</td>\n",
       "      <td>jul</td>\n",
       "      <td>7479</td>\n",
       "      <td>2084</td>\n",
       "    </tr>\n",
       "    <tr>\n",
       "      <th>7</th>\n",
       "      <td>2018</td>\n",
       "      <td>aug</td>\n",
       "      <td>4434</td>\n",
       "      <td>2799</td>\n",
       "    </tr>\n",
       "    <tr>\n",
       "      <th>8</th>\n",
       "      <td>2018</td>\n",
       "      <td>sep</td>\n",
       "      <td>3615</td>\n",
       "      <td>1649</td>\n",
       "    </tr>\n",
       "    <tr>\n",
       "      <th>9</th>\n",
       "      <td>2018</td>\n",
       "      <td>oct</td>\n",
       "      <td>5472</td>\n",
       "      <td>1116</td>\n",
       "    </tr>\n",
       "    <tr>\n",
       "      <th>10</th>\n",
       "      <td>2018</td>\n",
       "      <td>nov</td>\n",
       "      <td>7224</td>\n",
       "      <td>1431</td>\n",
       "    </tr>\n",
       "    <tr>\n",
       "      <th>11</th>\n",
       "      <td>2018</td>\n",
       "      <td>dec</td>\n",
       "      <td>1812</td>\n",
       "      <td>3532</td>\n",
       "    </tr>\n",
       "  </tbody>\n",
       "</table>\n",
       "</div>"
      ],
      "text/plain": [
       "    year month  sales  expenditure\n",
       "0   2018   jan   6226         3808\n",
       "1   2018   feb   1521         3373\n",
       "2   2018   mar   1842         3965\n",
       "3   2018   apr   2051         1098\n",
       "4   2018   may   1728         3046\n",
       "5   2018   jun   2138         2258\n",
       "6   2018   jul   7479         2084\n",
       "7   2018   aug   4434         2799\n",
       "8   2018   sep   3615         1649\n",
       "9   2018   oct   5472         1116\n",
       "10  2018   nov   7224         1431\n",
       "11  2018   dec   1812         3532"
      ]
     },
     "execution_count": 69,
     "metadata": {},
     "output_type": "execute_result"
    }
   ],
   "source": [
    "df = pd.read_csv(\"Documents/monthly sales.csv\")\n",
    "df"
   ]
  },
  {
   "cell_type": "code",
   "execution_count": 24,
   "id": "b2fa3180",
   "metadata": {},
   "outputs": [
    {
     "data": {
      "text/plain": [
       "0     6226\n",
       "1     1521\n",
       "2     1842\n",
       "3     2051\n",
       "4     1728\n",
       "5     2138\n",
       "6     7479\n",
       "7     4434\n",
       "8     3615\n",
       "9     5472\n",
       "10    7224\n",
       "11    1812\n",
       "Name: sales, dtype: int64"
      ]
     },
     "execution_count": 24,
     "metadata": {},
     "output_type": "execute_result"
    }
   ],
   "source": [
    "df[\"sales\"]"
   ]
  },
  {
   "cell_type": "code",
   "execution_count": 29,
   "id": "504cb6d0",
   "metadata": {},
   "outputs": [
    {
     "data": {
      "text/html": [
       "<div>\n",
       "<style scoped>\n",
       "    .dataframe tbody tr th:only-of-type {\n",
       "        vertical-align: middle;\n",
       "    }\n",
       "\n",
       "    .dataframe tbody tr th {\n",
       "        vertical-align: top;\n",
       "    }\n",
       "\n",
       "    .dataframe thead th {\n",
       "        text-align: right;\n",
       "    }\n",
       "</style>\n",
       "<table border=\"1\" class=\"dataframe\">\n",
       "  <thead>\n",
       "    <tr style=\"text-align: right;\">\n",
       "      <th></th>\n",
       "      <th>month</th>\n",
       "      <th>sales</th>\n",
       "    </tr>\n",
       "  </thead>\n",
       "  <tbody>\n",
       "    <tr>\n",
       "      <th>0</th>\n",
       "      <td>jan</td>\n",
       "      <td>6226</td>\n",
       "    </tr>\n",
       "    <tr>\n",
       "      <th>1</th>\n",
       "      <td>feb</td>\n",
       "      <td>1521</td>\n",
       "    </tr>\n",
       "    <tr>\n",
       "      <th>2</th>\n",
       "      <td>mar</td>\n",
       "      <td>1842</td>\n",
       "    </tr>\n",
       "    <tr>\n",
       "      <th>3</th>\n",
       "      <td>apr</td>\n",
       "      <td>2051</td>\n",
       "    </tr>\n",
       "    <tr>\n",
       "      <th>4</th>\n",
       "      <td>may</td>\n",
       "      <td>1728</td>\n",
       "    </tr>\n",
       "    <tr>\n",
       "      <th>5</th>\n",
       "      <td>jun</td>\n",
       "      <td>2138</td>\n",
       "    </tr>\n",
       "    <tr>\n",
       "      <th>6</th>\n",
       "      <td>jul</td>\n",
       "      <td>7479</td>\n",
       "    </tr>\n",
       "    <tr>\n",
       "      <th>7</th>\n",
       "      <td>aug</td>\n",
       "      <td>4434</td>\n",
       "    </tr>\n",
       "    <tr>\n",
       "      <th>8</th>\n",
       "      <td>sep</td>\n",
       "      <td>3615</td>\n",
       "    </tr>\n",
       "    <tr>\n",
       "      <th>9</th>\n",
       "      <td>oct</td>\n",
       "      <td>5472</td>\n",
       "    </tr>\n",
       "    <tr>\n",
       "      <th>10</th>\n",
       "      <td>nov</td>\n",
       "      <td>7224</td>\n",
       "    </tr>\n",
       "    <tr>\n",
       "      <th>11</th>\n",
       "      <td>dec</td>\n",
       "      <td>1812</td>\n",
       "    </tr>\n",
       "  </tbody>\n",
       "</table>\n",
       "</div>"
      ],
      "text/plain": [
       "   month  sales\n",
       "0    jan   6226\n",
       "1    feb   1521\n",
       "2    mar   1842\n",
       "3    apr   2051\n",
       "4    may   1728\n",
       "5    jun   2138\n",
       "6    jul   7479\n",
       "7    aug   4434\n",
       "8    sep   3615\n",
       "9    oct   5472\n",
       "10   nov   7224\n",
       "11   dec   1812"
      ]
     },
     "execution_count": 29,
     "metadata": {},
     "output_type": "execute_result"
    }
   ],
   "source": [
    "df[[\"month\", \"sales\"]]"
   ]
  },
  {
   "cell_type": "code",
   "execution_count": 30,
   "id": "e88ed617",
   "metadata": {},
   "outputs": [
    {
     "data": {
      "text/html": [
       "<div>\n",
       "<style scoped>\n",
       "    .dataframe tbody tr th:only-of-type {\n",
       "        vertical-align: middle;\n",
       "    }\n",
       "\n",
       "    .dataframe tbody tr th {\n",
       "        vertical-align: top;\n",
       "    }\n",
       "\n",
       "    .dataframe thead th {\n",
       "        text-align: right;\n",
       "    }\n",
       "</style>\n",
       "<table border=\"1\" class=\"dataframe\">\n",
       "  <thead>\n",
       "    <tr style=\"text-align: right;\">\n",
       "      <th></th>\n",
       "      <th>year</th>\n",
       "      <th>sales</th>\n",
       "      <th>expenditure</th>\n",
       "    </tr>\n",
       "  </thead>\n",
       "  <tbody>\n",
       "    <tr>\n",
       "      <th>count</th>\n",
       "      <td>12.0</td>\n",
       "      <td>12.000000</td>\n",
       "      <td>12.000000</td>\n",
       "    </tr>\n",
       "    <tr>\n",
       "      <th>mean</th>\n",
       "      <td>2018.0</td>\n",
       "      <td>3795.166667</td>\n",
       "      <td>2513.250000</td>\n",
       "    </tr>\n",
       "    <tr>\n",
       "      <th>std</th>\n",
       "      <td>0.0</td>\n",
       "      <td>2285.725579</td>\n",
       "      <td>1046.608994</td>\n",
       "    </tr>\n",
       "    <tr>\n",
       "      <th>min</th>\n",
       "      <td>2018.0</td>\n",
       "      <td>1521.000000</td>\n",
       "      <td>1098.000000</td>\n",
       "    </tr>\n",
       "    <tr>\n",
       "      <th>25%</th>\n",
       "      <td>2018.0</td>\n",
       "      <td>1834.500000</td>\n",
       "      <td>1594.500000</td>\n",
       "    </tr>\n",
       "    <tr>\n",
       "      <th>50%</th>\n",
       "      <td>2018.0</td>\n",
       "      <td>2876.500000</td>\n",
       "      <td>2528.500000</td>\n",
       "    </tr>\n",
       "    <tr>\n",
       "      <th>75%</th>\n",
       "      <td>2018.0</td>\n",
       "      <td>5660.500000</td>\n",
       "      <td>3412.750000</td>\n",
       "    </tr>\n",
       "    <tr>\n",
       "      <th>max</th>\n",
       "      <td>2018.0</td>\n",
       "      <td>7479.000000</td>\n",
       "      <td>3965.000000</td>\n",
       "    </tr>\n",
       "  </tbody>\n",
       "</table>\n",
       "</div>"
      ],
      "text/plain": [
       "         year        sales  expenditure\n",
       "count    12.0    12.000000    12.000000\n",
       "mean   2018.0  3795.166667  2513.250000\n",
       "std       0.0  2285.725579  1046.608994\n",
       "min    2018.0  1521.000000  1098.000000\n",
       "25%    2018.0  1834.500000  1594.500000\n",
       "50%    2018.0  2876.500000  2528.500000\n",
       "75%    2018.0  5660.500000  3412.750000\n",
       "max    2018.0  7479.000000  3965.000000"
      ]
     },
     "execution_count": 30,
     "metadata": {},
     "output_type": "execute_result"
    }
   ],
   "source": [
    "df.describe()"
   ]
  },
  {
   "cell_type": "code",
   "execution_count": 83,
   "id": "3ec67ebc",
   "metadata": {},
   "outputs": [
    {
     "data": {
      "text/plain": [
       "7479"
      ]
     },
     "execution_count": 83,
     "metadata": {},
     "output_type": "execute_result"
    }
   ],
   "source": [
    "df[\"sales\"].max()"
   ]
  },
  {
   "cell_type": "code",
   "execution_count": 82,
   "id": "f1e373d9",
   "metadata": {},
   "outputs": [
    {
     "data": {
      "text/plain": [
       "1521"
      ]
     },
     "execution_count": 82,
     "metadata": {},
     "output_type": "execute_result"
    }
   ],
   "source": [
    "df[\"sales\"].min()"
   ]
  },
  {
   "cell_type": "code",
   "execution_count": 42,
   "id": "c97a98f6",
   "metadata": {},
   "outputs": [
    {
     "data": {
      "text/plain": [
       "3795.1666666666665"
      ]
     },
     "execution_count": 42,
     "metadata": {},
     "output_type": "execute_result"
    }
   ],
   "source": [
    "df[\"sales\"].mean()"
   ]
  },
  {
   "cell_type": "code",
   "execution_count": 58,
   "id": "6961df38",
   "metadata": {},
   "outputs": [
    {
     "data": {
      "text/plain": [
       "0     13.670897\n",
       "1      3.339774\n",
       "2      4.044618\n",
       "3      4.503535\n",
       "4      3.794300\n",
       "5      4.694568\n",
       "6     16.422204\n",
       "7      9.736068\n",
       "8      7.937728\n",
       "9     12.015283\n",
       "10    15.862281\n",
       "11     3.978745\n",
       "Name: sales, dtype: float64"
      ]
     },
     "execution_count": 58,
     "metadata": {},
     "output_type": "execute_result"
    }
   ],
   "source": [
    "percentage = (df['sales'] / df['sales'].sum()) * 100\n",
    "percentage"
   ]
  },
  {
   "cell_type": "code",
   "execution_count": 65,
   "id": "441962de",
   "metadata": {
    "scrolled": true
   },
   "outputs": [
    {
     "data": {
      "text/plain": [
       "0     2418\n",
       "1    -1852\n",
       "2    -2123\n",
       "3      953\n",
       "4    -1318\n",
       "5     -120\n",
       "6     5395\n",
       "7     1635\n",
       "8     1966\n",
       "9     4356\n",
       "10    5793\n",
       "11   -1720\n",
       "dtype: int64"
      ]
     },
     "execution_count": 65,
     "metadata": {},
     "output_type": "execute_result"
    }
   ],
   "source": [
    "profit = df[\"sales\"] - df[\"expenditure\"]\n",
    "profit"
   ]
  },
  {
   "cell_type": "code",
   "execution_count": 71,
   "id": "ade40ff8",
   "metadata": {},
   "outputs": [
    {
     "data": {
      "text/plain": [
       "0     jan\n",
       "1     feb\n",
       "2     mar\n",
       "3     apr\n",
       "4     may\n",
       "5     jun\n",
       "6     jul\n",
       "7     aug\n",
       "8     sep\n",
       "9     oct\n",
       "10    nov\n",
       "11    dec\n",
       "Name: month, dtype: object"
      ]
     },
     "execution_count": 71,
     "metadata": {},
     "output_type": "execute_result"
    }
   ],
   "source": [
    "monthly = df.loc[0:11, \"month\"]\n",
    "monthly"
   ]
  },
  {
   "cell_type": "code",
   "execution_count": 77,
   "id": "c565672a",
   "metadata": {},
   "outputs": [
    {
     "data": {
      "text/plain": [
       "0     6226\n",
       "1     1521\n",
       "2     1842\n",
       "3     2051\n",
       "4     1728\n",
       "5     2138\n",
       "6     7479\n",
       "7     4434\n",
       "8     3615\n",
       "9     5472\n",
       "10    7224\n",
       "11    1812\n",
       "Name: sales, dtype: int64"
      ]
     },
     "execution_count": 77,
     "metadata": {},
     "output_type": "execute_result"
    }
   ],
   "source": [
    "sales_only = df.loc[0:11, \"sales\"]\n",
    "sales_only"
   ]
  },
  {
   "cell_type": "code",
   "execution_count": 79,
   "id": "b1c287fa",
   "metadata": {},
   "outputs": [
    {
     "data": {
      "text/plain": [
       "0     3808\n",
       "1     3373\n",
       "2     3965\n",
       "3     1098\n",
       "4     3046\n",
       "5     2258\n",
       "6     2084\n",
       "7     2799\n",
       "8     1649\n",
       "9     1116\n",
       "10    1431\n",
       "11    3532\n",
       "Name: expenditure, dtype: int64"
      ]
     },
     "execution_count": 79,
     "metadata": {},
     "output_type": "execute_result"
    }
   ],
   "source": [
    "expenditure_only = df.loc[0:11, \"expenditure\"]\n",
    "expenditure_only"
   ]
  },
  {
   "cell_type": "code",
   "execution_count": 78,
   "id": "47fcaf79",
   "metadata": {
    "scrolled": false
   },
   "outputs": [
    {
     "data": {
      "image/png": "[encoded data removed]",
      "text/plain": [
       "<Figure size 432x288 with 1 Axes>"
      ]
     },
     "metadata": {
      "needs_background": "light"
     },
     "output_type": "display_data"
    }
   ],
   "source": [
    "plt.bar(monthly, sales_only, color = \"red\")\n",
    "plt.title(\"Bar chart for sales\")\n",
    "plt.xlabel(\"Months\")\n",
    "plt.ylabel(\"Sales\")\n",
    "plt.show()"
   ]
  },
  {
   "cell_type": "code",
   "execution_count": 80,
   "id": "de3f77af",
   "metadata": {},
   "outputs": [
    {
     "data": {
      "image/png": "[encoded data removed]",
      "text/plain": [
       "<Figure size 432x288 with 1 Axes>"
      ]
     },
     "metadata": {
      "needs_background": "light"
     },
     "output_type": "display_data"
    }
   ],
   "source": [
    "plt.bar(monthly, expenditure_only, color = \"blue\")\n",
    "plt.title(\"Bar chart for expenditure\")\n",
    "plt.xlabel(\"Months\")\n",
    "plt.ylabel(\"Expenditure\")\n",
    "plt.show()"
   ]
  },
  {
   "cell_type": "code",
   "execution_count": null,
   "id": "1f499282",
   "metadata": {},
   "outputs": [],
   "source": []
  },
  {
   "cell_type": "code",
   "execution_count": null,
   "id": "f06bf0ce",
   "metadata": {},
   "outputs": [],
   "source": []
  }
 ],
 "metadata": {
  "kernelspec": {
   "display_name": "Python 3",
   "language": "python",
   "name": "python3"
  },
  "language_info": {
   "codemirror_mode": {
    "name": "ipython",
    "version": 3
   },
   "file_extension": ".py",
   "mimetype": "text/x-python",
   "name": "python",
   "nbconvert_exporter": "python",
   "pygments_lexer": "ipython3",
   "version": "3.8.8"
  }
 },
 "nbformat": 4,
 "nbformat_minor": 5
}
